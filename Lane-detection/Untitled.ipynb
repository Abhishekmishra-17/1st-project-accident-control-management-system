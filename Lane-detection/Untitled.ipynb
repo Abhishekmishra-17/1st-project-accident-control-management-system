{
 "cells": [
  {
   "cell_type": "code",
   "execution_count": 5,
   "id": "71c19dd4",
   "metadata": {},
   "outputs": [
    {
     "name": "stderr",
     "output_type": "stream",
     "text": [
      "c:\\users\\pc\\appdata\\local\\programs\\python\\python36\\lib\\site-packages\\ipykernel_launcher.py:13: TqdmDeprecationWarning: This function will be removed in tqdm==5.0.0\n",
      "Please use `tqdm.notebook.tqdm` instead of `tqdm.tqdm_notebook`\n",
      "  del sys.path[0]\n"
     ]
    },
    {
     "data": {
      "application/vnd.jupyter.widget-view+json": {
       "model_id": "9ac8eb5f097b4ff18808aedc1881df65",
       "version_major": 2,
       "version_minor": 0
      },
      "text/plain": [
       "  0%|          | 0/1108 [00:00<?, ?it/s]"
      ]
     },
     "metadata": {},
     "output_type": "display_data"
    },
    {
     "name": "stderr",
     "output_type": "stream",
     "text": [
      "c:\\users\\pc\\appdata\\local\\programs\\python\\python36\\lib\\site-packages\\ipykernel_launcher.py:40: TqdmDeprecationWarning: This function will be removed in tqdm==5.0.0\n",
      "Please use `tqdm.notebook.tqdm` instead of `tqdm.tqdm_notebook`\n"
     ]
    },
    {
     "data": {
      "application/vnd.jupyter.widget-view+json": {
       "model_id": "6563dfc4cfec4909b7d76a18f4d60f2a",
       "version_major": 2,
       "version_minor": 0
      },
      "text/plain": [
       "  0%|          | 0/1108 [00:00<?, ?it/s]"
      ]
     },
     "metadata": {},
     "output_type": "display_data"
    },
    {
     "name": "stderr",
     "output_type": "stream",
     "text": [
      "c:\\users\\pc\\appdata\\local\\programs\\python\\python36\\lib\\site-packages\\ipykernel_launcher.py:78: TqdmDeprecationWarning: This function will be removed in tqdm==5.0.0\n",
      "Please use `tqdm.notebook.tqdm` instead of `tqdm.tqdm_notebook`\n"
     ]
    },
    {
     "data": {
      "application/vnd.jupyter.widget-view+json": {
       "model_id": "6016c7bc4c1b4d0b894c49fa35dd8937",
       "version_major": 2,
       "version_minor": 0
      },
      "text/plain": [
       "  0%|          | 0/1108 [00:00<?, ?it/s]"
      ]
     },
     "metadata": {},
     "output_type": "display_data"
    },
    {
     "name": "stdout",
     "output_type": "stream",
     "text": [
      "(480, 270)\n"
     ]
    }
   ],
   "source": [
    "import os\n",
    "import re\n",
    "import cv2\n",
    "import numpy as np\n",
    "from tqdm import tqdm_notebook\n",
    "import matplotlib.pyplot as plt\n",
    "# get file names of frames\n",
    "col_frames = os.listdir('frames/')\n",
    "col_frames.sort(key=lambda f: int(re.sub('\\D', '', f)))\n",
    "\n",
    "# load frames\n",
    "col_images=[]\n",
    "for i in tqdm_notebook(col_frames):\n",
    "    img = cv2.imread('frames/'+i)\n",
    "    col_images.append(img)\n",
    "# specify frame index\n",
    "idx = 457\n",
    "# create a zero array\n",
    "stencil = np.zeros_like(col_images[idx][:,:,0])\n",
    "\n",
    "# specify coordinates of the polygon\n",
    "polygon = np.array([[50,270], [220,160], [360,160], [480,270]])\n",
    "\n",
    "# fill polygon with ones\n",
    "cv2.fillConvexPoly(stencil, polygon, 1)\n",
    "# apply polygon as a mask on the frame\n",
    "img = cv2.bitwise_and(col_images[idx][:,:,0], col_images[idx][:,:,0], mask=stencil)\n",
    "# apply image thresholding\n",
    "ret, thresh = cv2.threshold(img, 130, 145, cv2.THRESH_BINARY)\n",
    "lines = cv2.HoughLinesP(thresh, 1, np.pi/180, 30, maxLineGap=200)\n",
    "\n",
    "# create a copy of the original frame\n",
    "dmy = col_images[idx][:,:,0].copy()\n",
    "\n",
    "# draw Hough lines\n",
    "for line in lines:\n",
    "  x1, y1, x2, y2 = line[0]\n",
    "  cv2.line(dmy, (x1, y1), (x2, y2), (255, 0, 0), 3)\n",
    "cnt = 0\n",
    "for img in tqdm_notebook(col_images):\n",
    "  \n",
    "  # apply frame mask\n",
    "  masked = cv2.bitwise_and(img[:,:,0], img[:,:,0], mask=stencil)\n",
    "  \n",
    "  # apply image thresholding\n",
    "  ret, thresh = cv2.threshold(masked, 130, 145, cv2.THRESH_BINARY)\n",
    "\n",
    "  # apply Hough Line Transformation\n",
    "  lines = cv2.HoughLinesP(thresh, 1, np.pi/180, 30, maxLineGap=200)\n",
    "  dmy = img.copy()\n",
    "  \n",
    "  # Plot detected lines\n",
    "  try:\n",
    "    for line in lines:\n",
    "      x1, y1, x2, y2 = line[0]\n",
    "      cv2.line(dmy, (x1, y1), (x2, y2), (255, 0, 0), 3)\n",
    "  \n",
    "    cv2.imwrite('detected/'+str(cnt)+'.png',dmy)\n",
    "  \n",
    "  except TypeError: \n",
    "    cv2.imwrite('detected/'+str(cnt)+'.png',img)\n",
    "\n",
    "  cnt+= 1\n",
    "# input frames path\n",
    "pathIn= 'detected/'\n",
    "\n",
    "# output path to save the video\n",
    "pathOut = 'dummy1.mp4'\n",
    "\n",
    "# specify frames per second\n",
    "fps = 30.0\n",
    "from os.path import isfile, join\n",
    "\n",
    "# get file names of the frames\n",
    "files = [f for f in os.listdir(pathIn) if isfile(join(pathIn, f))]\n",
    "files.sort(key=lambda f: int(re.sub('\\D', '', f)))\n",
    "frame_list = []\n",
    "for i in tqdm_notebook(range(len(files))):\n",
    "    filename=pathIn + files[i]\n",
    "    #reading each files\n",
    "    img = cv2.imread(filename)\n",
    "    height, width, layers = img.shape\n",
    "    size = (width,height)\n",
    "    #inserting the frames into an image array\n",
    "    frame_list.append(img)\n",
    "print(size)\n",
    "# write the video\n",
    "out = cv2.VideoWriter(pathOut,cv2.VideoWriter_fourcc(*'DIVX'), fps, size)\n",
    "for i in range(len(frame_list)):\n",
    "    # writing to a image array\n",
    "    out.write(frame_list[i])\n",
    "out.release()"
   ]
  },
  {
   "cell_type": "code",
   "execution_count": null,
   "id": "1e753ebc",
   "metadata": {},
   "outputs": [],
   "source": []
  }
 ],
 "metadata": {
  "kernelspec": {
   "display_name": "Python 3",
   "language": "python",
   "name": "python3"
  },
  "language_info": {
   "codemirror_mode": {
    "name": "ipython",
    "version": 3
   },
   "file_extension": ".py",
   "mimetype": "text/x-python",
   "name": "python",
   "nbconvert_exporter": "python",
   "pygments_lexer": "ipython3",
   "version": "3.6.8"
  }
 },
 "nbformat": 4,
 "nbformat_minor": 5
}
